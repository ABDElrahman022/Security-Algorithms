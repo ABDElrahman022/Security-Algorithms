{
 "cells": [
  {
   "cell_type": "markdown",
   "id": "8a58b514",
   "metadata": {},
   "source": [
    "### The Affine cipher is a type of monoalphabetic substitution cipher, wherein each letter in an alphabet is mapped to its numeric equivalent, encrypted using a simple mathematical function, and converted back to a letter. The formula used means that each letter encrypts to one other letter, and back again, meaning the cipher is essentially a standard substitution cipher with a rule governing which letter goes to which. \n",
    "### The whole process relies on working modulo m (the length of the alphabet used). In the affine cipher, the letters of an alphabet of size m are first mapped to the integers in the range 0 … m-1. \n",
    "\n",
    "### The ‘key’ for the Affine cipher consists of 2 numbers, we’ll call them a and b. The following discussion assumes the use of a 26 character alphabet (m = 26). a should be chosen to be relatively prime to m (i.e. a should have no factors in common with m). "
   ]
  },
  {
   "cell_type": "markdown",
   "id": "a231a672",
   "metadata": {},
   "source": [
    "____________________________________________________________________________________________________________________________"
   ]
  },
  {
   "cell_type": "code",
   "execution_count": 17,
   "id": "83e92250",
   "metadata": {},
   "outputs": [],
   "source": [
    "import re\n",
    "import math\n",
    "from sympy import mod_inverse"
   ]
  },
  {
   "cell_type": "markdown",
   "id": "a2c4bf0a",
   "metadata": {},
   "source": [
    "## Load Text"
   ]
  },
  {
   "cell_type": "code",
   "execution_count": 43,
   "id": "cb6ad8ea",
   "metadata": {},
   "outputs": [],
   "source": [
    "def get_text():\n",
    "    print(\"\"\"ATTENTION !!\n",
    "    Input the message using alphabetical letters only\"\"\")\n",
    "\n",
    "    while True:\n",
    "\n",
    "        plainText = input(\"Enter your message\\n\")\n",
    "        if plainText and re.match(\"^[a-zA-Z\\s]+$\", plainText):\n",
    "            break\n",
    "\n",
    "        else:\n",
    "            print(\"Invalid input. Please enter a message using alphabetical letters only.\")\n",
    "    return plainText"
   ]
  },
  {
   "cell_type": "code",
   "execution_count": 8,
   "id": "15a0c713",
   "metadata": {},
   "outputs": [
    {
     "name": "stdout",
     "output_type": "stream",
     "text": [
      "ATTENTION !!\n",
      "    Input the message using alphabetical letters only\n",
      "Enter your message\n",
      "AbdElrahman Muhammed \n"
     ]
    }
   ],
   "source": [
    "text = get_text()"
   ]
  },
  {
   "cell_type": "markdown",
   "id": "b4753cd0",
   "metadata": {},
   "source": [
    "## Key (a,b)\n",
    "(a,b) which has the restriction, Greatest Common Divisor gsd(a,26) = 1"
   ]
  },
  {
   "cell_type": "code",
   "execution_count": 32,
   "id": "1baba003",
   "metadata": {},
   "outputs": [],
   "source": [
    "def key():\n",
    "    \"\"\" Return 2 keys ( key_a, key_b)\"\"\"\n",
    "    while True:\n",
    "        try:\n",
    "            a = int(input(\"Enter the first key (must be coprime with 26): \"))\n",
    "            if math.gcd(a,26)!=1:\n",
    "                print(\"Invalid input. The first key must be coprime with 26\")\n",
    "                continue\n",
    "            b = int(input(\"Enter the second key: \"))\n",
    "            return a,b\n",
    "        except ValueError:\n",
    "            print(\"Enter integer values for the keys\")\n",
    "        "
   ]
  },
  {
   "cell_type": "code",
   "execution_count": 33,
   "id": "e3505fcd",
   "metadata": {},
   "outputs": [
    {
     "name": "stdout",
     "output_type": "stream",
     "text": [
      "Enter the first key (must be coprime with 26): 4\n",
      "Invalid input. The first key must be coprime with 26\n",
      "Enter the first key (must be coprime with 26): 7\n",
      "Enter the second key: 5\n"
     ]
    }
   ],
   "source": [
    "a,b = key()"
   ]
  },
  {
   "cell_type": "markdown",
   "id": "4b43199e",
   "metadata": {},
   "source": [
    "## a Inverse "
   ]
  },
  {
   "cell_type": "code",
   "execution_count": 34,
   "id": "424d52ce",
   "metadata": {},
   "outputs": [
    {
     "data": {
      "text/plain": [
       "15"
      ]
     },
     "execution_count": 34,
     "metadata": {},
     "output_type": "execute_result"
    }
   ],
   "source": [
    "a_inv = mod_inverse(a,26)\n",
    "a_inv"
   ]
  },
  {
   "cell_type": "markdown",
   "id": "c4595a7f",
   "metadata": {},
   "source": [
    "## Encryption\n",
    "###  E ( x ) = ( a x + b ) mod m \n",
    "modulus m: size of the alphabet <br>\n",
    "a and b: key of the cipher.<br>\n",
    "a must be chosen such that a and m are coprime."
   ]
  },
  {
   "cell_type": "code",
   "execution_count": 35,
   "id": "930aafba",
   "metadata": {},
   "outputs": [],
   "source": [
    "def encrypted(text, a, b):\n",
    "    \"\"\" It takes a plaintext string, along with two keys a and b, and returns the encrypted ciphertext\"\"\"\n",
    "    encrypted_text = ''\n",
    "    for char in text:\n",
    "        if char.isupper():\n",
    "            \"\"\"                 a_key *  character            +b_key mod 26\"\"\"                 \n",
    "            encrypted_text += chr(((a * (ord(char) - ord('A')) + b) % 26) + ord('A'))\n",
    "        elif char.islower():\n",
    "            encrypted_text += chr(((a * (ord(char) - ord('a')) + b) % 26) + ord('a'))\n",
    "        else:\n",
    "            encrypted_text += char\n",
    "    return encrypted_text"
   ]
  },
  {
   "cell_type": "code",
   "execution_count": 36,
   "id": "e37a3a3f",
   "metadata": {},
   "outputs": [
    {
     "data": {
      "text/plain": [
       "'FmaHeufclfs Lpcfllha '"
      ]
     },
     "execution_count": 36,
     "metadata": {},
     "output_type": "execute_result"
    }
   ],
   "source": [
    "enc_text = encrypted(text, a, b)\n",
    "enc_text"
   ]
  },
  {
   "cell_type": "markdown",
   "id": "5e563eb7",
   "metadata": {},
   "source": [
    "## Decryption\n",
    "D ( x ) = a^-1 ( x - b ) mod m"
   ]
  },
  {
   "cell_type": "code",
   "execution_count": 37,
   "id": "b8f7c548",
   "metadata": {},
   "outputs": [],
   "source": [
    "def decrypt(enc_text, a_inv, b):\n",
    "    \"\"\"It takes an encrypted text, along with the multiplicative inverse\n",
    "    of the first key a used for encryption and the second key b, and returns the decrypted plaintext\"\"\"\n",
    "    decrypt_text = ''\n",
    "    for char in enc_text:\n",
    "        if char.isupper():\n",
    "            \"\"\"                  a_key^-1 * (character             -b_key) mod 26\"\"\"                 \n",
    "            decrypt_text += chr(((a_inv * ((ord(char) - ord('A')) - b)) % 26) + ord('A'))\n",
    "        elif char.islower():\n",
    "            decrypt_text += chr(((a_inv * ((ord(char) - ord('a')) - b)) % 26) + ord('a'))\n",
    "        else:\n",
    "            decrypt_text += char\n",
    "    return decrypt_text"
   ]
  },
  {
   "cell_type": "code",
   "execution_count": 38,
   "id": "1ddd566c",
   "metadata": {},
   "outputs": [
    {
     "data": {
      "text/plain": [
       "'AbdElrahman Muhammed '"
      ]
     },
     "execution_count": 38,
     "metadata": {},
     "output_type": "execute_result"
    }
   ],
   "source": [
    "dec_text = decrypt(enc_text, a_inv, b)\n",
    "dec_text"
   ]
  },
  {
   "cell_type": "code",
   "execution_count": 46,
   "id": "afca936a",
   "metadata": {},
   "outputs": [],
   "source": [
    "def main ():\n",
    "    txt = get_text()\n",
    "    a, b = key()\n",
    "    a_inv = mod_inverse(a,26)\n",
    "    enc_txt = encrypted(txt, a, b)\n",
    "    print (f\"\\nEncrypted Text: {enc_txt}\\n\")\n",
    "    dec_txt = decrypt(enc_txt, a_inv, b)\n",
    "    print(f\"Decrypted Text: {dec_txt}\")"
   ]
  },
  {
   "cell_type": "code",
   "execution_count": 47,
   "id": "0a961303",
   "metadata": {},
   "outputs": [
    {
     "name": "stdout",
     "output_type": "stream",
     "text": [
      "ATTENTION !!\n",
      "    Input the message using alphabetical letters only\n",
      "Enter your message\n",
      "AbdElrahman Muhammed\n",
      "Enter the first key (must be coprime with 26): 2\n",
      "Invalid input. The first key must be coprime with 26\n",
      "Enter the first key (must be coprime with 26): df\n",
      "Enter integer values for the keys\n",
      "Enter the first key (must be coprime with 26): 7\n",
      "Enter the second key: 5\n",
      "\n",
      "Encrypted Text: FmaHeufclfs Lpcfllha\n",
      "\n",
      "Decrypted Text: AbdElrahman Muhammed\n"
     ]
    }
   ],
   "source": [
    "if __name__ == '__main__':\n",
    "    main()"
   ]
  },
  {
   "cell_type": "code",
   "execution_count": null,
   "id": "ca026e44",
   "metadata": {},
   "outputs": [],
   "source": []
  }
 ],
 "metadata": {
  "kernelspec": {
   "display_name": "Python 3 (ipykernel)",
   "language": "python",
   "name": "python3"
  },
  "language_info": {
   "codemirror_mode": {
    "name": "ipython",
    "version": 3
   },
   "file_extension": ".py",
   "mimetype": "text/x-python",
   "name": "python",
   "nbconvert_exporter": "python",
   "pygments_lexer": "ipython3",
   "version": "3.9.13"
  }
 },
 "nbformat": 4,
 "nbformat_minor": 5
}
